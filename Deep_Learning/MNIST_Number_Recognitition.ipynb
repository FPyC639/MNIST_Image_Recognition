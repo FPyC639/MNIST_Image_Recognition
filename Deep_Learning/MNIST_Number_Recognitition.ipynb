{
  "nbformat": 4,
  "nbformat_minor": 0,
  "metadata": {
    "colab": {
      "provenance": [],
      "gpuType": "T4"
    },
    "kernelspec": {
      "name": "python3",
      "display_name": "Python 3"
    },
    "language_info": {
      "name": "python"
    },
    "accelerator": "GPU"
  },
  "cells": [
    {
      "cell_type": "code",
      "source": [
        "import tensorflow\n",
        "import tensorflow.keras\n",
        "import pandas"
      ],
      "metadata": {
        "id": "Gn4kPJlSdnpU"
      },
      "execution_count": 1,
      "outputs": []
    },
    {
      "cell_type": "code",
      "execution_count": 2,
      "metadata": {
        "id": "TutnjBw3CNBj"
      },
      "outputs": [],
      "source": [
        "from tensorflow.keras.datasets import mnist"
      ]
    },
    {
      "cell_type": "code",
      "source": [
        "(X_train, Y_train), (X_test, Y_test) = mnist.load_data()"
      ],
      "metadata": {
        "colab": {
          "base_uri": "https://localhost:8080/"
        },
        "id": "VeGQbqAZCRzr",
        "outputId": "859a9e65-6bd4-442c-bf32-7e4dc6d35846"
      },
      "execution_count": 3,
      "outputs": [
        {
          "output_type": "stream",
          "name": "stdout",
          "text": [
            "Downloading data from https://storage.googleapis.com/tensorflow/tf-keras-datasets/mnist.npz\n",
            "11490434/11490434 [==============================] - 0s 0us/step\n"
          ]
        }
      ]
    },
    {
      "cell_type": "code",
      "source": [
        "import numpy as np"
      ],
      "metadata": {
        "id": "0jDELUvACh2n"
      },
      "execution_count": 4,
      "outputs": []
    },
    {
      "cell_type": "code",
      "source": [
        "print(\"The shape of X_train {0}\".format(X_train.shape))\n",
        "print(\"The shape of Y_train {0}\".format(Y_train.shape))\n",
        "print(\"The shape of X_test {0}\".format(X_test.shape))\n",
        "print(\"The shape of Y_test {0}\".format(Y_test.shape))"
      ],
      "metadata": {
        "colab": {
          "base_uri": "https://localhost:8080/"
        },
        "id": "MI4t9yDKCmMj",
        "outputId": "05918d1b-e08c-4abf-c08d-b6f1fc963b94"
      },
      "execution_count": 5,
      "outputs": [
        {
          "output_type": "stream",
          "name": "stdout",
          "text": [
            "The shape of X_train (60000, 28, 28)\n",
            "The shape of Y_train (60000,)\n",
            "The shape of X_test (10000, 28, 28)\n",
            "The shape of Y_test (10000,)\n"
          ]
        }
      ]
    },
    {
      "cell_type": "code",
      "source": [
        "from tensorflow.keras.layers import *\n",
        "from tensorflow.keras.optimizers import *\n",
        "from tensorflow.keras.callbacks import *\n",
        "from tensorflow.keras.models import *"
      ],
      "metadata": {
        "id": "CIn3wndsCxIX"
      },
      "execution_count": 6,
      "outputs": []
    },
    {
      "cell_type": "code",
      "source": [
        "X_train, X_test = map(lambda x: np.expand_dims(x,axis=-1), [X_train,X_test])"
      ],
      "metadata": {
        "id": "mvPXzMVFdtMY"
      },
      "execution_count": 7,
      "outputs": []
    },
    {
      "cell_type": "code",
      "source": [
        "input_data = Input([28,28,1])\n",
        "x = Conv2D(128, kernel_size=3,strides=(2,2), activation='relu')(input_data)\n",
        "x = MaxPooling2D((2,2))(x)\n",
        "x_1 = Conv2D(128, kernel_size=3, strides=(2,2),activation='tanh')(input_data)\n",
        "x_1 = MaxPooling2D((2,2))(x_1)\n",
        "cat_1 = Concatenate(axis=1)([x,x_1])\n",
        "act_1 = Dense(64,activation='relu')(cat_1)\n",
        "flat = Flatten()(act_1)\n",
        "output = Dense(10,activation='softmax')(flat)\n",
        "model = Model(input_data,output)"
      ],
      "metadata": {
        "id": "vYAbOs-IeePQ"
      },
      "execution_count": 8,
      "outputs": []
    },
    {
      "cell_type": "code",
      "source": [
        "class myCallback(Callback):\n",
        "        # Define the correct function signature for on_epoch_end\n",
        "        def on_epoch_end(self, epoch, logs=None):\n",
        "            if logs.get('accuracy') is not None and logs.get('accuracy') > 0.99:\n",
        "                print(\"\\nReached 99% accuracy so cancelling training!\")\n",
        "\n",
        "                # Stop training once the above condition is met\n",
        "                self.model.stop_training = True"
      ],
      "metadata": {
        "id": "EUvtYsL4idNL"
      },
      "execution_count": 9,
      "outputs": []
    },
    {
      "cell_type": "code",
      "source": [
        "model.compile(\n",
        "    optimizer=AdamW(learning_rate =0.001),\n",
        "    loss='sparse_categorical_crossentropy',\n",
        "    metrics='accuracy',\n",
        ")"
      ],
      "metadata": {
        "id": "rKQoNgg9efvY"
      },
      "execution_count": 10,
      "outputs": []
    },
    {
      "cell_type": "code",
      "source": [
        "_ = model.fit(X_train,Y_train,epochs=15,callbacks=myCallback())"
      ],
      "metadata": {
        "colab": {
          "base_uri": "https://localhost:8080/"
        },
        "id": "q_UioqNBjIt3",
        "outputId": "b30e37c3-926a-439f-f183-d7787fc2a7d3"
      },
      "execution_count": 11,
      "outputs": [
        {
          "output_type": "stream",
          "name": "stdout",
          "text": [
            "Epoch 1/15\n",
            "1875/1875 [==============================] - 15s 5ms/step - loss: 0.2311 - accuracy: 0.9428\n",
            "Epoch 2/15\n",
            "1875/1875 [==============================] - 7s 4ms/step - loss: 0.0966 - accuracy: 0.9714\n",
            "Epoch 3/15\n",
            "1875/1875 [==============================] - 7s 4ms/step - loss: 0.0824 - accuracy: 0.9749\n",
            "Epoch 4/15\n",
            "1875/1875 [==============================] - 7s 3ms/step - loss: 0.0728 - accuracy: 0.9778\n",
            "Epoch 5/15\n",
            "1875/1875 [==============================] - 7s 4ms/step - loss: 0.0645 - accuracy: 0.9803\n",
            "Epoch 6/15\n",
            "1875/1875 [==============================] - 7s 4ms/step - loss: 0.0591 - accuracy: 0.9820\n",
            "Epoch 7/15\n",
            "1875/1875 [==============================] - 7s 4ms/step - loss: 0.0530 - accuracy: 0.9837\n",
            "Epoch 8/15\n",
            "1875/1875 [==============================] - 7s 4ms/step - loss: 0.0484 - accuracy: 0.9851\n",
            "Epoch 9/15\n",
            "1875/1875 [==============================] - 6s 3ms/step - loss: 0.0467 - accuracy: 0.9855\n",
            "Epoch 10/15\n",
            "1875/1875 [==============================] - 8s 4ms/step - loss: 0.0450 - accuracy: 0.9860\n",
            "Epoch 11/15\n",
            "1875/1875 [==============================] - 6s 3ms/step - loss: 0.0418 - accuracy: 0.9872\n",
            "Epoch 12/15\n",
            "1875/1875 [==============================] - 7s 4ms/step - loss: 0.0379 - accuracy: 0.9880\n",
            "Epoch 13/15\n",
            "1875/1875 [==============================] - 7s 3ms/step - loss: 0.0384 - accuracy: 0.9883\n",
            "Epoch 14/15\n",
            "1875/1875 [==============================] - 7s 4ms/step - loss: 0.0364 - accuracy: 0.9888\n",
            "Epoch 15/15\n",
            "1875/1875 [==============================] - 6s 3ms/step - loss: 0.0341 - accuracy: 0.9896\n"
          ]
        }
      ]
    },
    {
      "cell_type": "code",
      "source": [
        "pred = model.predict(X_test)"
      ],
      "metadata": {
        "colab": {
          "base_uri": "https://localhost:8080/"
        },
        "id": "GYOh9ItjqfzM",
        "outputId": "5e3a83a2-0498-4e52-be96-a2654ed8cc59"
      },
      "execution_count": 12,
      "outputs": [
        {
          "output_type": "stream",
          "name": "stdout",
          "text": [
            "313/313 [==============================] - 1s 3ms/step\n"
          ]
        }
      ]
    },
    {
      "cell_type": "code",
      "source": [
        "from sklearn.metrics import roc_auc_score as acc"
      ],
      "metadata": {
        "id": "raUUlodYrUXY"
      },
      "execution_count": 13,
      "outputs": []
    },
    {
      "cell_type": "code",
      "source": [
        "print(\"The ROC_AUC_Score is {0:.5f}\".format(acc(Y_test,pred,multi_class = 'ovo')))"
      ],
      "metadata": {
        "colab": {
          "base_uri": "https://localhost:8080/"
        },
        "id": "90s89TMRrfAS",
        "outputId": "4c002fa4-b712-4466-f0e8-52f60e5b8b7e"
      },
      "execution_count": 14,
      "outputs": [
        {
          "output_type": "stream",
          "name": "stdout",
          "text": [
            "The ROC_AUC_Score is 0.99959\n"
          ]
        }
      ]
    },
    {
      "cell_type": "code",
      "source": [
        "model.save(\"Custom_model.h5\")"
      ],
      "metadata": {
        "colab": {
          "base_uri": "https://localhost:8080/"
        },
        "id": "M8jF4SaCr_LX",
        "outputId": "88997cbb-7b80-4ec2-95f4-c1bc7f5523f0"
      },
      "execution_count": null,
      "outputs": [
        {
          "output_type": "stream",
          "name": "stderr",
          "text": [
            "/usr/local/lib/python3.10/dist-packages/keras/src/engine/training.py:3103: UserWarning: You are saving your model as an HDF5 file via `model.save()`. This file format is considered legacy. We recommend using instead the native Keras format, e.g. `model.save('my_model.keras')`.\n",
            "  saving_api.save_model(\n"
          ]
        }
      ]
    },
    {
      "cell_type": "code",
      "source": [],
      "metadata": {
        "id": "t4LF0glsuXpX"
      },
      "execution_count": null,
      "outputs": []
    }
  ]
}