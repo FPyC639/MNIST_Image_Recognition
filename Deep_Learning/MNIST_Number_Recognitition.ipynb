{
  "nbformat": 4,
  "nbformat_minor": 0,
  "metadata": {
    "colab": {
      "provenance": [],
      "gpuType": "T4"
    },
    "kernelspec": {
      "name": "python3",
      "display_name": "Python 3"
    },
    "language_info": {
      "name": "python"
    },
    "accelerator": "GPU"
  },
  "cells": [
    {
      "cell_type": "code",
      "source": [
        "import tensorflow\n",
        "import tensorflow.keras\n",
        "import pandas"
      ],
      "metadata": {
        "id": "Gn4kPJlSdnpU"
      },
      "execution_count": 1,
      "outputs": []
    },
    {
      "cell_type": "code",
      "execution_count": 2,
      "metadata": {
        "id": "TutnjBw3CNBj"
      },
      "outputs": [],
      "source": [
        "from tensorflow.keras.datasets import mnist"
      ]
    },
    {
      "cell_type": "code",
      "source": [
        "(X_train, Y_train), (X_test, Y_test) = mnist.load_data()"
      ],
      "metadata": {
        "colab": {
          "base_uri": "https://localhost:8080/"
        },
        "id": "VeGQbqAZCRzr",
        "outputId": "b582b196-e07d-4193-8ce2-a7a02fc98e17"
      },
      "execution_count": 3,
      "outputs": [
        {
          "output_type": "stream",
          "name": "stdout",
          "text": [
            "Downloading data from https://storage.googleapis.com/tensorflow/tf-keras-datasets/mnist.npz\n",
            "11490434/11490434 [==============================] - 2s 0us/step\n"
          ]
        }
      ]
    },
    {
      "cell_type": "code",
      "source": [
        "import numpy as np"
      ],
      "metadata": {
        "id": "0jDELUvACh2n"
      },
      "execution_count": 4,
      "outputs": []
    },
    {
      "cell_type": "code",
      "source": [
        "print(\"The shape of X_train {0}\".format(X_train.shape))\n",
        "print(\"The shape of Y_train {0}\".format(Y_train.shape))\n",
        "print(\"The shape of X_test {0}\".format(X_test.shape))\n",
        "print(\"The shape of Y_test {0}\".format(Y_test.shape))"
      ],
      "metadata": {
        "colab": {
          "base_uri": "https://localhost:8080/"
        },
        "id": "MI4t9yDKCmMj",
        "outputId": "f27afede-7253-4c8c-dc2c-5f5ee8e68561"
      },
      "execution_count": 5,
      "outputs": [
        {
          "output_type": "stream",
          "name": "stdout",
          "text": [
            "The shape of X_train (60000, 28, 28)\n",
            "The shape of Y_train (60000,)\n",
            "The shape of X_test (10000, 28, 28)\n",
            "The shape of Y_test (10000,)\n"
          ]
        }
      ]
    },
    {
      "cell_type": "code",
      "source": [
        "from tensorflow.keras.layers import *\n",
        "from tensorflow.keras.optimizers import *\n",
        "from tensorflow.keras.callbacks import *\n",
        "from tensorflow.keras.models import *"
      ],
      "metadata": {
        "id": "CIn3wndsCxIX"
      },
      "execution_count": 6,
      "outputs": []
    },
    {
      "cell_type": "code",
      "source": [
        "X_train, X_test = map(lambda x: np.expand_dims(x,axis=-1), [X_train,X_test])"
      ],
      "metadata": {
        "id": "mvPXzMVFdtMY"
      },
      "execution_count": 7,
      "outputs": []
    },
    {
      "cell_type": "code",
      "source": [
        "input_data = Input([28,28,1])\n",
        "x = Conv2D(128, kernel_size=3,strides=(2,2), activation='relu')(input_data)\n",
        "x = MaxPooling2D((2,2))(x)\n",
        "x_1 = Conv2D(128, kernel_size=3, strides=(2,2),activation='tanh')(input_data)\n",
        "x_1 = MaxPooling2D((2,2))(x_1)\n",
        "cat_1 = Concatenate(axis=1)([x,x_1])\n",
        "act_1 = Dense(64,activation='relu')(cat_1)\n",
        "flat = Flatten()(act_1)\n",
        "output = Dense(10,activation='softmax')(flat)\n",
        "model = Model(input_data,output)"
      ],
      "metadata": {
        "id": "vYAbOs-IeePQ"
      },
      "execution_count": 26,
      "outputs": []
    },
    {
      "cell_type": "code",
      "source": [
        "class myCallback(Callback):\n",
        "        # Define the correct function signature for on_epoch_end\n",
        "        def on_epoch_end(self, epoch, logs=None):\n",
        "            if logs.get('accuracy') is not None and logs.get('accuracy') > 0.99:\n",
        "                print(\"\\nReached 92% accuracy so cancelling training!\")\n",
        "\n",
        "                # Stop training once the above condition is met\n",
        "                self.model.stop_training = True"
      ],
      "metadata": {
        "id": "EUvtYsL4idNL"
      },
      "execution_count": 27,
      "outputs": []
    },
    {
      "cell_type": "code",
      "source": [
        "model.compile(\n",
        "    optimizer=AdamW(learning_rate =0.001),\n",
        "    loss='sparse_categorical_crossentropy',\n",
        "    metrics='accuracy',\n",
        ")"
      ],
      "metadata": {
        "id": "rKQoNgg9efvY"
      },
      "execution_count": 28,
      "outputs": []
    },
    {
      "cell_type": "code",
      "source": [
        "_ = model.fit(X_train,Y_train,epochs=15,callbacks=myCallback())"
      ],
      "metadata": {
        "colab": {
          "base_uri": "https://localhost:8080/"
        },
        "id": "q_UioqNBjIt3",
        "outputId": "30229855-7b30-4d88-fd60-fe73cc9895b0"
      },
      "execution_count": 29,
      "outputs": [
        {
          "output_type": "stream",
          "name": "stdout",
          "text": [
            "Epoch 1/15\n",
            "1875/1875 [==============================] - 9s 4ms/step - loss: 0.2302 - accuracy: 0.9414\n",
            "Epoch 2/15\n",
            "1875/1875 [==============================] - 7s 3ms/step - loss: 0.0991 - accuracy: 0.9707\n",
            "Epoch 3/15\n",
            "1875/1875 [==============================] - 8s 4ms/step - loss: 0.0857 - accuracy: 0.9739\n",
            "Epoch 4/15\n",
            "1875/1875 [==============================] - 7s 4ms/step - loss: 0.0725 - accuracy: 0.9775\n",
            "Epoch 5/15\n",
            "1875/1875 [==============================] - 7s 4ms/step - loss: 0.0650 - accuracy: 0.9803\n",
            "Epoch 6/15\n",
            "1875/1875 [==============================] - 6s 3ms/step - loss: 0.0578 - accuracy: 0.9819\n",
            "Epoch 7/15\n",
            "1875/1875 [==============================] - 7s 4ms/step - loss: 0.0562 - accuracy: 0.9827\n",
            "Epoch 8/15\n",
            "1875/1875 [==============================] - 7s 3ms/step - loss: 0.0488 - accuracy: 0.9850\n",
            "Epoch 9/15\n",
            "1875/1875 [==============================] - 7s 4ms/step - loss: 0.0458 - accuracy: 0.9856\n",
            "Epoch 10/15\n",
            "1875/1875 [==============================] - 7s 4ms/step - loss: 0.0430 - accuracy: 0.9868\n",
            "Epoch 11/15\n",
            "1875/1875 [==============================] - 7s 4ms/step - loss: 0.0410 - accuracy: 0.9870\n",
            "Epoch 12/15\n",
            "1875/1875 [==============================] - 7s 4ms/step - loss: 0.0387 - accuracy: 0.9880\n",
            "Epoch 13/15\n",
            "1866/1875 [============================>.] - ETA: 0s - loss: 0.0336 - accuracy: 0.9900\n",
            "Reached 92% accuracy so cancelling training!\n",
            "1875/1875 [==============================] - 7s 4ms/step - loss: 0.0335 - accuracy: 0.9900\n"
          ]
        }
      ]
    },
    {
      "cell_type": "code",
      "source": [],
      "metadata": {
        "id": "CZy0v46FjYOI"
      },
      "execution_count": null,
      "outputs": []
    }
  ]
}